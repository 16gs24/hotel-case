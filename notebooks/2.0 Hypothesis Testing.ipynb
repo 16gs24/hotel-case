{
 "cells": [
  {
   "cell_type": "code",
   "execution_count": 55,
   "id": "95ce7eba",
   "metadata": {},
   "outputs": [],
   "source": [
    "import pandas as pd\n",
    "from scipy.stats import ttest_ind\n",
    "from scipy.stats import fisher_exact"
   ]
  },
  {
   "cell_type": "code",
   "execution_count": 3,
   "id": "df009106",
   "metadata": {},
   "outputs": [],
   "source": [
    "# downloaded Google Sheet provided by SC and saved locally\n",
    "path = '../data/Thank You Call Data - Sheet1.tsv'\n",
    "raw_data = pd.read_csv(path, sep = '\\t')"
   ]
  },
  {
   "cell_type": "code",
   "execution_count": 154,
   "id": "47ecf83d",
   "metadata": {},
   "outputs": [],
   "source": [
    "# method chain and test this post EDA\n",
    "\n",
    "filter_criteria = (raw_data.BOOKINGS < 12)& (raw_data.GMV < 8000) & (raw_data.BOOKINGS.notnull())\n",
    "\n",
    "dataset = (raw_data[filter_criteria]\n",
    "           .assign(MARGIN = lambda x: x.LTR / x.GMV)\n",
    "           .assign(CUSTOMER_RETURNED = lambda x: x.BOOKINGS > 1)\n",
    "           .assign(GMV_PER_BOOKING = lambda x: x.GMV / x.BOOKINGS)\n",
    "          )"
   ]
  },
  {
   "cell_type": "markdown",
   "id": "7d0d7888",
   "metadata": {},
   "source": [
    "# GMV\n",
    "\n",
    "Hypothesis is that the thank you call leads to higher lifetimes GMV"
   ]
  },
  {
   "cell_type": "code",
   "execution_count": 64,
   "id": "40cfdc8f",
   "metadata": {},
   "outputs": [
    {
     "name": "stdout",
     "output_type": "stream",
     "text": [
      "Campaign lift of $56.92 (6.02%) vs $944.9203556818181 baseline with p 8.105493833861987e-07\n"
     ]
    }
   ],
   "source": [
    "#split data\n",
    "thank_you_call = dataset[dataset.THANK_YOU_STATUS == 'thank_you_call']\n",
    "no_call = dataset[dataset.THANK_YOU_STATUS == 'no_call']\n",
    "\n",
    "# test & report\n",
    "GMV_test_results = ttest_ind(a=thank_you_call['GMV'],b=no_call['GMV'])\n",
    "thank_you_GMV_avg = dataset[dataset.THANK_YOU_STATUS == 'thank_you_call']['GMV'].mean()\n",
    "no_call_GMV_avg = dataset[dataset.THANK_YOU_STATUS == 'no_call']['GMV'].mean()\n",
    "delta_GMV = round(thank_you_GMV_avg - no_call_GMV_avg,2)\n",
    "lift = round(100 * delta_GMV / no_call_GMV_avg,2)\n",
    "\n",
    "print(f'Campaign lift of ${delta_GMV} ({lift}%) vs ${no_call_GMV_avg} baseline with p {GMV_test_results[1]}')"
   ]
  },
  {
   "cell_type": "markdown",
   "id": "a610a464",
   "metadata": {},
   "source": [
    "# LTR"
   ]
  },
  {
   "cell_type": "code",
   "execution_count": 66,
   "id": "0ce5b62d",
   "metadata": {},
   "outputs": [
    {
     "name": "stdout",
     "output_type": "stream",
     "text": [
      "Campaign lift of $1.3 (2.0%) vs $65.10017209338235 baseline with p 0.0\n"
     ]
    }
   ],
   "source": [
    "#split data\n",
    "thank_you_call = dataset[dataset.THANK_YOU_STATUS == 'thank_you_call']\n",
    "no_call = dataset[dataset.THANK_YOU_STATUS == 'no_call']\n",
    "\n",
    "# test & report\n",
    "LTR_test_results = ttest_ind(a=thank_you_call['GMV'],b=no_call['LTR'])\n",
    "thank_you_LTR_avg = dataset[dataset.THANK_YOU_STATUS == 'thank_you_call']['LTR'].mean()\n",
    "no_call_LTR_avg = dataset[dataset.THANK_YOU_STATUS == 'no_call']['LTR'].mean()\n",
    "delta_LTR = round(thank_you_LTR_avg - no_call_LTR_avg,2)\n",
    "lift = round(100 * delta_LTR / no_call_LTR_avg,2)\n",
    "\n",
    "print(f'Campaign lift of ${delta_LTR} ({lift}%) vs ${no_call_LTR_avg} baseline with p {LTR_test_results[1]}')"
   ]
  },
  {
   "cell_type": "markdown",
   "id": "ead7c2a9",
   "metadata": {},
   "source": [
    "# BOOKINGS & GMV PER BOOKING\n",
    "\n",
    "## Don't use p value results, not relevant for rate data, but leverage lift results for deck\n"
   ]
  },
  {
   "cell_type": "code",
   "execution_count": 156,
   "id": "85d7bd3d",
   "metadata": {},
   "outputs": [
    {
     "name": "stdout",
     "output_type": "stream",
     "text": [
      "Campaign lift of $0.07 (4.56%) vs $1.5334224598930482 baseline with p 3.554089301881193e-05\n"
     ]
    }
   ],
   "source": [
    "#split data\n",
    "thank_you_call = dataset[dataset.THANK_YOU_STATUS == 'thank_you_call']\n",
    "no_call = dataset[dataset.THANK_YOU_STATUS == 'no_call']\n",
    "\n",
    "# test & report\n",
    "LTR_test_results = ttest_ind(a=thank_you_call['BOOKINGS'],b=no_call['BOOKINGS'])\n",
    "thank_you_LTR_avg = dataset[dataset.THANK_YOU_STATUS == 'thank_you_call']['BOOKINGS'].mean()\n",
    "no_call_LTR_avg = dataset[dataset.THANK_YOU_STATUS == 'no_call']['BOOKINGS'].mean()\n",
    "delta_LTR = round(thank_you_LTR_avg - no_call_LTR_avg,2)\n",
    "lift = round(100 * delta_LTR / no_call_LTR_avg,2)\n",
    "\n",
    "print(f'Campaign lift of ${delta_LTR} ({lift}%) vs ${no_call_LTR_avg} baseline with p {LTR_test_results[1]}')"
   ]
  },
  {
   "cell_type": "code",
   "execution_count": 157,
   "id": "4dda8d13",
   "metadata": {},
   "outputs": [
    {
     "name": "stdout",
     "output_type": "stream",
     "text": [
      "Campaign lift of $8.9 (1.4%) vs $636.7880225521448 baseline with p 0.0\n"
     ]
    }
   ],
   "source": [
    "#split data\n",
    "thank_you_call = dataset[dataset.THANK_YOU_STATUS == 'thank_you_call']\n",
    "no_call = dataset[dataset.THANK_YOU_STATUS == 'no_call']\n",
    "\n",
    "# test & report\n",
    "LTR_test_results = ttest_ind(a=thank_you_call['BOOKINGS'],b=no_call['GMV_PER_BOOKING'])\n",
    "thank_you_LTR_avg = dataset[dataset.THANK_YOU_STATUS == 'thank_you_call']['GMV_PER_BOOKING'].mean()\n",
    "no_call_LTR_avg = dataset[dataset.THANK_YOU_STATUS == 'no_call']['GMV_PER_BOOKING'].mean()\n",
    "delta_LTR = round(thank_you_LTR_avg - no_call_LTR_avg,2)\n",
    "lift = round(100 * delta_LTR / no_call_LTR_avg,2)\n",
    "\n",
    "print(f'Campaign lift of ${delta_LTR} ({lift}%) vs ${no_call_LTR_avg} baseline with p {LTR_test_results[1]}')"
   ]
  },
  {
   "cell_type": "markdown",
   "id": "4f43124d",
   "metadata": {},
   "source": [
    "# Return Rate"
   ]
  },
  {
   "cell_type": "code",
   "execution_count": 148,
   "id": "67c6a921",
   "metadata": {},
   "outputs": [
    {
     "data": {
      "text/html": [
       "<div>\n",
       "<style scoped>\n",
       "    .dataframe tbody tr th:only-of-type {\n",
       "        vertical-align: middle;\n",
       "    }\n",
       "\n",
       "    .dataframe tbody tr th {\n",
       "        vertical-align: top;\n",
       "    }\n",
       "\n",
       "    .dataframe thead th {\n",
       "        text-align: right;\n",
       "    }\n",
       "</style>\n",
       "<table border=\"1\" class=\"dataframe\">\n",
       "  <thead>\n",
       "    <tr style=\"text-align: right;\">\n",
       "      <th>CUSTOMER_RETURNED</th>\n",
       "      <th>False</th>\n",
       "      <th>True</th>\n",
       "    </tr>\n",
       "    <tr>\n",
       "      <th>THANK_YOU_STATUS</th>\n",
       "      <th></th>\n",
       "      <th></th>\n",
       "    </tr>\n",
       "  </thead>\n",
       "  <tbody>\n",
       "    <tr>\n",
       "      <th>no_call</th>\n",
       "      <td>11077</td>\n",
       "      <td>3883</td>\n",
       "    </tr>\n",
       "    <tr>\n",
       "      <th>thank_you_call</th>\n",
       "      <td>5716</td>\n",
       "      <td>2178</td>\n",
       "    </tr>\n",
       "  </tbody>\n",
       "</table>\n",
       "</div>"
      ],
      "text/plain": [
       "CUSTOMER_RETURNED  False  True\n",
       "THANK_YOU_STATUS              \n",
       "no_call            11077  3883\n",
       "thank_you_call      5716  2178"
      ]
     },
     "execution_count": 148,
     "metadata": {},
     "output_type": "execute_result"
    }
   ],
   "source": [
    "return_rate_dataset = (dataset\n",
    ".groupby(['THANK_YOU_STATUS','CUSTOMER_RETURNED'])\n",
    ".USER_ID\n",
    ".count()\n",
    ".reset_index()\n",
    ".pivot(index = 'THANK_YOU_STATUS',\n",
    " columns = 'CUSTOMER_RETURNED',\n",
    " values = 'USER_ID')\n",
    ")\n",
    "\n",
    "return_rate_dataset"
   ]
  },
  {
   "cell_type": "code",
   "execution_count": 149,
   "id": "6e41a362",
   "metadata": {},
   "outputs": [
    {
     "name": "stdout",
     "output_type": "stream",
     "text": [
      "Test saw 1.6% change in customer return rate from baseline of 25.96% with p value 0.008115007865450358\n"
     ]
    }
   ],
   "source": [
    "return_rate_results = fisher_exact(return_rate_dataset)\n",
    "\n",
    "summary_return_rate = (return_rate_dataset\n",
    "                       .reset_index()\n",
    "                       .assign(RETURN_RATE = lambda x: x[True] / (x[False] + x[True]))\n",
    "                      )\n",
    "\n",
    "control_group_rate = summary_return_rate[summary_return_rate.THANK_YOU_STATUS == 'no_call'][['RETURN_RATE']].sum()[0]\n",
    "test_group_rate = summary_return_rate[summary_return_rate.THANK_YOU_STATUS == 'thank_you_call'][['RETURN_RATE']].sum()[0]\n",
    "delta_return_rate = test_group_rate - control_group_rate\n",
    "\n",
    "print(f'Test saw {100*delta_return_rate:.2}% change in customer return rate from baseline of {100*control_group_rate:.2f}% with p value {return_rate_results[1]}')"
   ]
  },
  {
   "cell_type": "code",
   "execution_count": null,
   "id": "ab1cd235",
   "metadata": {},
   "outputs": [],
   "source": []
  }
 ],
 "metadata": {
  "kernelspec": {
   "display_name": "Python 3 (ipykernel)",
   "language": "python",
   "name": "python3"
  },
  "language_info": {
   "codemirror_mode": {
    "name": "ipython",
    "version": 3
   },
   "file_extension": ".py",
   "mimetype": "text/x-python",
   "name": "python",
   "nbconvert_exporter": "python",
   "pygments_lexer": "ipython3",
   "version": "3.9.1"
  }
 },
 "nbformat": 4,
 "nbformat_minor": 5
}
