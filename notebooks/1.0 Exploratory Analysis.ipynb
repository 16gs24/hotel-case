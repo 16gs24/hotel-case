{
 "cells": [
  {
   "cell_type": "code",
   "execution_count": 49,
   "id": "f9896909",
   "metadata": {},
   "outputs": [],
   "source": [
    "import pandas as pd\n",
    "import seaborn as sns\n",
    "import matplotlib.pyplot as plt\n",
    "sns.set_theme(style=\"whitegrid\")"
   ]
  },
  {
   "cell_type": "code",
   "execution_count": 3,
   "id": "67acb0ba",
   "metadata": {},
   "outputs": [],
   "source": [
    "# downloaded Google Sheet provided by SC and saved locally\n",
    "path = '../data/Thank You Call Data - Sheet1.tsv'\n",
    "raw_data = pd.read_csv(path, sep = '\\t')"
   ]
  },
  {
   "cell_type": "markdown",
   "id": "9bc8f8b0",
   "metadata": {},
   "source": [
    "# Validation\n",
    "\n",
    "Do some sanity checks to confirm:\n",
    "    \n",
    "- Data Types & Nulls\n",
    "   \n",
    "- Header & trailers make sense\n",
    "   \n",
    "- No dupes of customer IDs\n",
    "\n",
    "- Understand GMV & LTR"
   ]
  },
  {
   "cell_type": "code",
   "execution_count": 4,
   "id": "ff7afdb0",
   "metadata": {},
   "outputs": [
    {
     "name": "stdout",
     "output_type": "stream",
     "text": [
      "<class 'pandas.core.frame.DataFrame'>\n",
      "RangeIndex: 23759 entries, 0 to 23758\n",
      "Data columns (total 6 columns):\n",
      " #   Column            Non-Null Count  Dtype  \n",
      "---  ------            --------------  -----  \n",
      " 0   USER_ID           23759 non-null  int64  \n",
      " 1   CHECK_OUT_MONTH   23759 non-null  object \n",
      " 2   THANK_YOU_STATUS  23759 non-null  object \n",
      " 3   LTR               23202 non-null  float64\n",
      " 4   BOOKINGS          23202 non-null  float64\n",
      " 5   GMV               23202 non-null  float64\n",
      "dtypes: float64(3), int64(1), object(2)\n",
      "memory usage: 1.1+ MB\n"
     ]
    }
   ],
   "source": [
    "raw_data.info()"
   ]
  },
  {
   "cell_type": "code",
   "execution_count": 5,
   "id": "b8ccacd4",
   "metadata": {},
   "outputs": [
    {
     "data": {
      "text/html": [
       "<div>\n",
       "<style scoped>\n",
       "    .dataframe tbody tr th:only-of-type {\n",
       "        vertical-align: middle;\n",
       "    }\n",
       "\n",
       "    .dataframe tbody tr th {\n",
       "        vertical-align: top;\n",
       "    }\n",
       "\n",
       "    .dataframe thead th {\n",
       "        text-align: right;\n",
       "    }\n",
       "</style>\n",
       "<table border=\"1\" class=\"dataframe\">\n",
       "  <thead>\n",
       "    <tr style=\"text-align: right;\">\n",
       "      <th></th>\n",
       "      <th>USER_ID</th>\n",
       "      <th>LTR</th>\n",
       "      <th>BOOKINGS</th>\n",
       "      <th>GMV</th>\n",
       "    </tr>\n",
       "  </thead>\n",
       "  <tbody>\n",
       "    <tr>\n",
       "      <th>count</th>\n",
       "      <td>2.375900e+04</td>\n",
       "      <td>23202.000000</td>\n",
       "      <td>23202.000000</td>\n",
       "      <td>23202.000000</td>\n",
       "    </tr>\n",
       "    <tr>\n",
       "      <th>mean</th>\n",
       "      <td>1.628785e+06</td>\n",
       "      <td>73.784503</td>\n",
       "      <td>1.920869</td>\n",
       "      <td>1120.685785</td>\n",
       "    </tr>\n",
       "    <tr>\n",
       "      <th>std</th>\n",
       "      <td>6.329651e+05</td>\n",
       "      <td>106.030714</td>\n",
       "      <td>15.036952</td>\n",
       "      <td>1831.220249</td>\n",
       "    </tr>\n",
       "    <tr>\n",
       "      <th>min</th>\n",
       "      <td>1.015700e+04</td>\n",
       "      <td>0.006633</td>\n",
       "      <td>1.000000</td>\n",
       "      <td>502.554000</td>\n",
       "    </tr>\n",
       "    <tr>\n",
       "      <th>25%</th>\n",
       "      <td>1.188946e+06</td>\n",
       "      <td>42.504000</td>\n",
       "      <td>1.000000</td>\n",
       "      <td>592.224750</td>\n",
       "    </tr>\n",
       "    <tr>\n",
       "      <th>50%</th>\n",
       "      <td>1.637085e+06</td>\n",
       "      <td>53.322500</td>\n",
       "      <td>1.000000</td>\n",
       "      <td>700.493500</td>\n",
       "    </tr>\n",
       "    <tr>\n",
       "      <th>75%</th>\n",
       "      <td>2.131534e+06</td>\n",
       "      <td>70.994000</td>\n",
       "      <td>2.000000</td>\n",
       "      <td>871.887500</td>\n",
       "    </tr>\n",
       "    <tr>\n",
       "      <th>max</th>\n",
       "      <td>2.839099e+06</td>\n",
       "      <td>5122.086550</td>\n",
       "      <td>2012.000000</td>\n",
       "      <td>73247.220000</td>\n",
       "    </tr>\n",
       "  </tbody>\n",
       "</table>\n",
       "</div>"
      ],
      "text/plain": [
       "            USER_ID           LTR      BOOKINGS           GMV\n",
       "count  2.375900e+04  23202.000000  23202.000000  23202.000000\n",
       "mean   1.628785e+06     73.784503      1.920869   1120.685785\n",
       "std    6.329651e+05    106.030714     15.036952   1831.220249\n",
       "min    1.015700e+04      0.006633      1.000000    502.554000\n",
       "25%    1.188946e+06     42.504000      1.000000    592.224750\n",
       "50%    1.637085e+06     53.322500      1.000000    700.493500\n",
       "75%    2.131534e+06     70.994000      2.000000    871.887500\n",
       "max    2.839099e+06   5122.086550   2012.000000  73247.220000"
      ]
     },
     "execution_count": 5,
     "metadata": {},
     "output_type": "execute_result"
    }
   ],
   "source": [
    "raw_data.describe()"
   ]
  },
  {
   "cell_type": "markdown",
   "id": "d79b1c6a",
   "metadata": {},
   "source": [
    "# Outliers\n",
    "- as usual, a tremendous amount of outliers are present in the data.\n",
    "- we will have to truncate these outliers for our exploratory analysis. Let's assume the top 1% of customers to have a better view to the visualizations and metrics."
   ]
  },
  {
   "cell_type": "code",
   "execution_count": 6,
   "id": "03a37235",
   "metadata": {},
   "outputs": [
    {
     "data": {
      "text/html": [
       "<div>\n",
       "<style scoped>\n",
       "    .dataframe tbody tr th:only-of-type {\n",
       "        vertical-align: middle;\n",
       "    }\n",
       "\n",
       "    .dataframe tbody tr th {\n",
       "        vertical-align: top;\n",
       "    }\n",
       "\n",
       "    .dataframe thead th {\n",
       "        text-align: right;\n",
       "    }\n",
       "</style>\n",
       "<table border=\"1\" class=\"dataframe\">\n",
       "  <thead>\n",
       "    <tr style=\"text-align: right;\">\n",
       "      <th></th>\n",
       "      <th>USER_ID</th>\n",
       "      <th>CHECK_OUT_MONTH</th>\n",
       "      <th>THANK_YOU_STATUS</th>\n",
       "      <th>LTR</th>\n",
       "      <th>BOOKINGS</th>\n",
       "      <th>GMV</th>\n",
       "    </tr>\n",
       "  </thead>\n",
       "  <tbody>\n",
       "    <tr>\n",
       "      <th>0</th>\n",
       "      <td>10157</td>\n",
       "      <td>2018-09-01</td>\n",
       "      <td>thank_you_call</td>\n",
       "      <td>106.640369</td>\n",
       "      <td>6.0</td>\n",
       "      <td>4926.957</td>\n",
       "    </tr>\n",
       "    <tr>\n",
       "      <th>1</th>\n",
       "      <td>10263</td>\n",
       "      <td>2018-03-01</td>\n",
       "      <td>thank_you_call</td>\n",
       "      <td>388.322847</td>\n",
       "      <td>25.0</td>\n",
       "      <td>18481.635</td>\n",
       "    </tr>\n",
       "    <tr>\n",
       "      <th>2</th>\n",
       "      <td>10362</td>\n",
       "      <td>2018-01-01</td>\n",
       "      <td>thank_you_call</td>\n",
       "      <td>588.327102</td>\n",
       "      <td>15.0</td>\n",
       "      <td>7010.647</td>\n",
       "    </tr>\n",
       "    <tr>\n",
       "      <th>3</th>\n",
       "      <td>10382</td>\n",
       "      <td>2018-11-01</td>\n",
       "      <td>thank_you_call</td>\n",
       "      <td>6.402000</td>\n",
       "      <td>2.0</td>\n",
       "      <td>1144.032</td>\n",
       "    </tr>\n",
       "    <tr>\n",
       "      <th>4</th>\n",
       "      <td>10463</td>\n",
       "      <td>2019-01-01</td>\n",
       "      <td>no_call</td>\n",
       "      <td>51.815610</td>\n",
       "      <td>3.0</td>\n",
       "      <td>1271.090</td>\n",
       "    </tr>\n",
       "    <tr>\n",
       "      <th>5</th>\n",
       "      <td>10664</td>\n",
       "      <td>2018-11-01</td>\n",
       "      <td>no_call</td>\n",
       "      <td>270.969193</td>\n",
       "      <td>6.0</td>\n",
       "      <td>4405.125</td>\n",
       "    </tr>\n",
       "    <tr>\n",
       "      <th>6</th>\n",
       "      <td>10683</td>\n",
       "      <td>2018-10-01</td>\n",
       "      <td>thank_you_call</td>\n",
       "      <td>104.709000</td>\n",
       "      <td>6.0</td>\n",
       "      <td>1568.437</td>\n",
       "    </tr>\n",
       "    <tr>\n",
       "      <th>7</th>\n",
       "      <td>10685</td>\n",
       "      <td>2018-09-01</td>\n",
       "      <td>thank_you_call</td>\n",
       "      <td>81.052356</td>\n",
       "      <td>2.0</td>\n",
       "      <td>1633.207</td>\n",
       "    </tr>\n",
       "    <tr>\n",
       "      <th>8</th>\n",
       "      <td>10705</td>\n",
       "      <td>2018-07-01</td>\n",
       "      <td>thank_you_call</td>\n",
       "      <td>354.495482</td>\n",
       "      <td>8.0</td>\n",
       "      <td>5004.103</td>\n",
       "    </tr>\n",
       "    <tr>\n",
       "      <th>9</th>\n",
       "      <td>10954</td>\n",
       "      <td>2018-07-01</td>\n",
       "      <td>thank_you_call</td>\n",
       "      <td>131.854195</td>\n",
       "      <td>7.0</td>\n",
       "      <td>2465.017</td>\n",
       "    </tr>\n",
       "    <tr>\n",
       "      <th>10</th>\n",
       "      <td>10979</td>\n",
       "      <td>2018-10-01</td>\n",
       "      <td>thank_you_call</td>\n",
       "      <td>215.029001</td>\n",
       "      <td>10.0</td>\n",
       "      <td>3623.992</td>\n",
       "    </tr>\n",
       "    <tr>\n",
       "      <th>11</th>\n",
       "      <td>11105</td>\n",
       "      <td>2018-05-01</td>\n",
       "      <td>thank_you_call</td>\n",
       "      <td>160.000621</td>\n",
       "      <td>4.0</td>\n",
       "      <td>3708.346</td>\n",
       "    </tr>\n",
       "    <tr>\n",
       "      <th>12</th>\n",
       "      <td>11389</td>\n",
       "      <td>2018-06-01</td>\n",
       "      <td>no_call</td>\n",
       "      <td>6.328322</td>\n",
       "      <td>2.0</td>\n",
       "      <td>1060.137</td>\n",
       "    </tr>\n",
       "    <tr>\n",
       "      <th>13</th>\n",
       "      <td>12208</td>\n",
       "      <td>2018-08-01</td>\n",
       "      <td>thank_you_call</td>\n",
       "      <td>28.760083</td>\n",
       "      <td>7.0</td>\n",
       "      <td>5087.301</td>\n",
       "    </tr>\n",
       "    <tr>\n",
       "      <th>14</th>\n",
       "      <td>12367</td>\n",
       "      <td>2018-07-01</td>\n",
       "      <td>thank_you_call</td>\n",
       "      <td>483.122376</td>\n",
       "      <td>12.0</td>\n",
       "      <td>7690.035</td>\n",
       "    </tr>\n",
       "    <tr>\n",
       "      <th>15</th>\n",
       "      <td>12662</td>\n",
       "      <td>2018-03-01</td>\n",
       "      <td>thank_you_call</td>\n",
       "      <td>120.557085</td>\n",
       "      <td>7.0</td>\n",
       "      <td>3491.817</td>\n",
       "    </tr>\n",
       "    <tr>\n",
       "      <th>16</th>\n",
       "      <td>12685</td>\n",
       "      <td>2019-02-01</td>\n",
       "      <td>no_call</td>\n",
       "      <td>74.591000</td>\n",
       "      <td>2.0</td>\n",
       "      <td>1117.563</td>\n",
       "    </tr>\n",
       "    <tr>\n",
       "      <th>17</th>\n",
       "      <td>12862</td>\n",
       "      <td>2018-04-01</td>\n",
       "      <td>thank_you_call</td>\n",
       "      <td>1310.219310</td>\n",
       "      <td>37.0</td>\n",
       "      <td>23855.182</td>\n",
       "    </tr>\n",
       "    <tr>\n",
       "      <th>18</th>\n",
       "      <td>12867</td>\n",
       "      <td>2019-05-01</td>\n",
       "      <td>no_call</td>\n",
       "      <td>NaN</td>\n",
       "      <td>NaN</td>\n",
       "      <td>NaN</td>\n",
       "    </tr>\n",
       "    <tr>\n",
       "      <th>19</th>\n",
       "      <td>12968</td>\n",
       "      <td>2018-02-01</td>\n",
       "      <td>thank_you_call</td>\n",
       "      <td>NaN</td>\n",
       "      <td>NaN</td>\n",
       "      <td>NaN</td>\n",
       "    </tr>\n",
       "  </tbody>\n",
       "</table>\n",
       "</div>"
      ],
      "text/plain": [
       "    USER_ID CHECK_OUT_MONTH THANK_YOU_STATUS          LTR  BOOKINGS        GMV\n",
       "0     10157      2018-09-01   thank_you_call   106.640369       6.0   4926.957\n",
       "1     10263      2018-03-01   thank_you_call   388.322847      25.0  18481.635\n",
       "2     10362      2018-01-01   thank_you_call   588.327102      15.0   7010.647\n",
       "3     10382      2018-11-01   thank_you_call     6.402000       2.0   1144.032\n",
       "4     10463      2019-01-01          no_call    51.815610       3.0   1271.090\n",
       "5     10664      2018-11-01          no_call   270.969193       6.0   4405.125\n",
       "6     10683      2018-10-01   thank_you_call   104.709000       6.0   1568.437\n",
       "7     10685      2018-09-01   thank_you_call    81.052356       2.0   1633.207\n",
       "8     10705      2018-07-01   thank_you_call   354.495482       8.0   5004.103\n",
       "9     10954      2018-07-01   thank_you_call   131.854195       7.0   2465.017\n",
       "10    10979      2018-10-01   thank_you_call   215.029001      10.0   3623.992\n",
       "11    11105      2018-05-01   thank_you_call   160.000621       4.0   3708.346\n",
       "12    11389      2018-06-01          no_call     6.328322       2.0   1060.137\n",
       "13    12208      2018-08-01   thank_you_call    28.760083       7.0   5087.301\n",
       "14    12367      2018-07-01   thank_you_call   483.122376      12.0   7690.035\n",
       "15    12662      2018-03-01   thank_you_call   120.557085       7.0   3491.817\n",
       "16    12685      2019-02-01          no_call    74.591000       2.0   1117.563\n",
       "17    12862      2018-04-01   thank_you_call  1310.219310      37.0  23855.182\n",
       "18    12867      2019-05-01          no_call          NaN       NaN        NaN\n",
       "19    12968      2018-02-01   thank_you_call          NaN       NaN        NaN"
      ]
     },
     "execution_count": 6,
     "metadata": {},
     "output_type": "execute_result"
    }
   ],
   "source": [
    "raw_data.head(20)"
   ]
  },
  {
   "cell_type": "code",
   "execution_count": 7,
   "id": "93f0250a",
   "metadata": {},
   "outputs": [
    {
     "data": {
      "text/html": [
       "<div>\n",
       "<style scoped>\n",
       "    .dataframe tbody tr th:only-of-type {\n",
       "        vertical-align: middle;\n",
       "    }\n",
       "\n",
       "    .dataframe tbody tr th {\n",
       "        vertical-align: top;\n",
       "    }\n",
       "\n",
       "    .dataframe thead th {\n",
       "        text-align: right;\n",
       "    }\n",
       "</style>\n",
       "<table border=\"1\" class=\"dataframe\">\n",
       "  <thead>\n",
       "    <tr style=\"text-align: right;\">\n",
       "      <th></th>\n",
       "      <th>USER_ID</th>\n",
       "      <th>CHECK_OUT_MONTH</th>\n",
       "      <th>THANK_YOU_STATUS</th>\n",
       "      <th>LTR</th>\n",
       "      <th>BOOKINGS</th>\n",
       "      <th>GMV</th>\n",
       "    </tr>\n",
       "  </thead>\n",
       "  <tbody>\n",
       "    <tr>\n",
       "      <th>23754</th>\n",
       "      <td>2836711</td>\n",
       "      <td>2019-06-01</td>\n",
       "      <td>no_call</td>\n",
       "      <td>124.267</td>\n",
       "      <td>1.0</td>\n",
       "      <td>639.098</td>\n",
       "    </tr>\n",
       "    <tr>\n",
       "      <th>23755</th>\n",
       "      <td>2837210</td>\n",
       "      <td>2019-06-01</td>\n",
       "      <td>no_call</td>\n",
       "      <td>67.848</td>\n",
       "      <td>1.0</td>\n",
       "      <td>560.235</td>\n",
       "    </tr>\n",
       "    <tr>\n",
       "      <th>23756</th>\n",
       "      <td>2837700</td>\n",
       "      <td>2019-06-01</td>\n",
       "      <td>no_call</td>\n",
       "      <td>42.812</td>\n",
       "      <td>1.0</td>\n",
       "      <td>510.714</td>\n",
       "    </tr>\n",
       "    <tr>\n",
       "      <th>23757</th>\n",
       "      <td>2837802</td>\n",
       "      <td>2019-06-01</td>\n",
       "      <td>no_call</td>\n",
       "      <td>48.521</td>\n",
       "      <td>1.0</td>\n",
       "      <td>573.206</td>\n",
       "    </tr>\n",
       "    <tr>\n",
       "      <th>23758</th>\n",
       "      <td>2839099</td>\n",
       "      <td>2019-06-01</td>\n",
       "      <td>no_call</td>\n",
       "      <td>60.214</td>\n",
       "      <td>1.0</td>\n",
       "      <td>695.759</td>\n",
       "    </tr>\n",
       "  </tbody>\n",
       "</table>\n",
       "</div>"
      ],
      "text/plain": [
       "       USER_ID CHECK_OUT_MONTH THANK_YOU_STATUS      LTR  BOOKINGS      GMV\n",
       "23754  2836711      2019-06-01          no_call  124.267       1.0  639.098\n",
       "23755  2837210      2019-06-01          no_call   67.848       1.0  560.235\n",
       "23756  2837700      2019-06-01          no_call   42.812       1.0  510.714\n",
       "23757  2837802      2019-06-01          no_call   48.521       1.0  573.206\n",
       "23758  2839099      2019-06-01          no_call   60.214       1.0  695.759"
      ]
     },
     "execution_count": 7,
     "metadata": {},
     "output_type": "execute_result"
    }
   ],
   "source": [
    "raw_data.tail(5)"
   ]
  },
  {
   "cell_type": "code",
   "execution_count": 8,
   "id": "17317980",
   "metadata": {},
   "outputs": [
    {
     "data": {
      "text/plain": [
       "True"
      ]
     },
     "execution_count": 8,
     "metadata": {},
     "output_type": "execute_result"
    }
   ],
   "source": [
    "raw_data.USER_ID.count() == raw_data.USER_ID.nunique()"
   ]
  },
  {
   "cell_type": "code",
   "execution_count": 9,
   "id": "148c31f0",
   "metadata": {},
   "outputs": [
    {
     "data": {
      "text/plain": [
       "0.4371279539516183"
      ]
     },
     "execution_count": 9,
     "metadata": {},
     "output_type": "execute_result"
    }
   ],
   "source": [
    "(raw_data.LTR / raw_data.GMV).max()"
   ]
  },
  {
   "cell_type": "code",
   "execution_count": 10,
   "id": "a5aefd30",
   "metadata": {},
   "outputs": [
    {
     "data": {
      "text/plain": [
       "True"
      ]
     },
     "execution_count": 10,
     "metadata": {},
     "output_type": "execute_result"
    }
   ],
   "source": [
    "(raw_data.LTR < raw_data.GMV).max()"
   ]
  },
  {
   "cell_type": "code",
   "execution_count": 11,
   "id": "6e167ce1",
   "metadata": {},
   "outputs": [
    {
     "data": {
      "text/plain": [
       "26"
      ]
     },
     "execution_count": 11,
     "metadata": {},
     "output_type": "execute_result"
    }
   ],
   "source": [
    "raw_data.CHECK_OUT_MONTH.nunique()"
   ]
  },
  {
   "cell_type": "markdown",
   "id": "5050a348",
   "metadata": {},
   "source": [
    "### Data Types\n",
    "- months are interepreted as string .Thats probably fine for now\n",
    "\n",
    "### Dupes\n",
    "- not an issue.\n",
    "\n",
    "### GMV & LTR\n",
    "- Sanity check that LTR is greater than GMV for no one. 43% max lifetime margin. Assume this is gross margin for any other calculations in the doc. \n",
    "\n",
    "# Nulls\n",
    "- Data dictionary for BOOKINGS\n",
    "\n",
    "```BOOKINGS\n",
    "int\n",
    "The total number of distinct bookings that the user has made using Snaptravel.```\n",
    "\n",
    "- Suggests that maybe these customers cancelled their bookings after creating an account. Let's confirm none got the email."
   ]
  },
  {
   "cell_type": "code",
   "execution_count": 12,
   "id": "8a2e4464",
   "metadata": {},
   "outputs": [
    {
     "data": {
      "text/html": [
       "<div>\n",
       "<style scoped>\n",
       "    .dataframe tbody tr th:only-of-type {\n",
       "        vertical-align: middle;\n",
       "    }\n",
       "\n",
       "    .dataframe tbody tr th {\n",
       "        vertical-align: top;\n",
       "    }\n",
       "\n",
       "    .dataframe thead th {\n",
       "        text-align: right;\n",
       "    }\n",
       "</style>\n",
       "<table border=\"1\" class=\"dataframe\">\n",
       "  <thead>\n",
       "    <tr style=\"text-align: right;\">\n",
       "      <th></th>\n",
       "      <th>USER_ID</th>\n",
       "      <th>CHECK_OUT_MONTH</th>\n",
       "      <th>LTR</th>\n",
       "      <th>BOOKINGS</th>\n",
       "      <th>GMV</th>\n",
       "    </tr>\n",
       "    <tr>\n",
       "      <th>THANK_YOU_STATUS</th>\n",
       "      <th></th>\n",
       "      <th></th>\n",
       "      <th></th>\n",
       "      <th></th>\n",
       "      <th></th>\n",
       "    </tr>\n",
       "  </thead>\n",
       "  <tbody>\n",
       "    <tr>\n",
       "      <th>no_call</th>\n",
       "      <td>293</td>\n",
       "      <td>293</td>\n",
       "      <td>0</td>\n",
       "      <td>0</td>\n",
       "      <td>0</td>\n",
       "    </tr>\n",
       "    <tr>\n",
       "      <th>thank_you_call</th>\n",
       "      <td>264</td>\n",
       "      <td>264</td>\n",
       "      <td>0</td>\n",
       "      <td>0</td>\n",
       "      <td>0</td>\n",
       "    </tr>\n",
       "  </tbody>\n",
       "</table>\n",
       "</div>"
      ],
      "text/plain": [
       "                  USER_ID  CHECK_OUT_MONTH  LTR  BOOKINGS  GMV\n",
       "THANK_YOU_STATUS                                              \n",
       "no_call               293              293    0         0    0\n",
       "thank_you_call        264              264    0         0    0"
      ]
     },
     "execution_count": 12,
     "metadata": {},
     "output_type": "execute_result"
    }
   ],
   "source": [
    "raw_data[raw_data.BOOKINGS.isnull()].groupby('THANK_YOU_STATUS').count()"
   ]
  },
  {
   "cell_type": "markdown",
   "id": "4870dbb6",
   "metadata": {},
   "source": [
    "# Null Conclusion\n",
    "- It's strange these customers have no bookings, but received a thank you call. I assumed these customers might have cancelled there reservations. Let's drop these users and assume that might be the root case."
   ]
  },
  {
   "cell_type": "code",
   "execution_count": 13,
   "id": "10315614",
   "metadata": {},
   "outputs": [],
   "source": [
    "# method chain and test this post EDA\n",
    "margin_data = raw_data.assign(MARGIN = lambda x: x.LTR / x.GMV)\n",
    "complete_data = margin_data[margin_data.BOOKINGS.notnull()]\n",
    "flagged_data = (complete_data.assign(CUSTOMER_RETURNED = lambda x: x.BOOKINGS > 1)\n",
    "                .assign(GMV_PER_BOOKING = lambda x: x.GMV / x.BOOKINGS)\n",
    "               )"
   ]
  },
  {
   "cell_type": "code",
   "execution_count": 14,
   "id": "579001a7",
   "metadata": {},
   "outputs": [
    {
     "data": {
      "text/html": [
       "<div>\n",
       "<style scoped>\n",
       "    .dataframe tbody tr th:only-of-type {\n",
       "        vertical-align: middle;\n",
       "    }\n",
       "\n",
       "    .dataframe tbody tr th {\n",
       "        vertical-align: top;\n",
       "    }\n",
       "\n",
       "    .dataframe thead th {\n",
       "        text-align: right;\n",
       "    }\n",
       "</style>\n",
       "<table border=\"1\" class=\"dataframe\">\n",
       "  <thead>\n",
       "    <tr style=\"text-align: right;\">\n",
       "      <th></th>\n",
       "      <th>USER_ID</th>\n",
       "      <th>CHECK_OUT_MONTH</th>\n",
       "      <th>THANK_YOU_STATUS</th>\n",
       "      <th>LTR</th>\n",
       "      <th>BOOKINGS</th>\n",
       "      <th>GMV</th>\n",
       "      <th>MARGIN</th>\n",
       "      <th>CUSTOMER_RETURNED</th>\n",
       "      <th>GMV_PER_BOOKING</th>\n",
       "    </tr>\n",
       "  </thead>\n",
       "  <tbody>\n",
       "    <tr>\n",
       "      <th>0</th>\n",
       "      <td>10157</td>\n",
       "      <td>2018-09-01</td>\n",
       "      <td>thank_you_call</td>\n",
       "      <td>106.640369</td>\n",
       "      <td>6.0</td>\n",
       "      <td>4926.957</td>\n",
       "      <td>0.021644</td>\n",
       "      <td>True</td>\n",
       "      <td>821.159500</td>\n",
       "    </tr>\n",
       "    <tr>\n",
       "      <th>1</th>\n",
       "      <td>10263</td>\n",
       "      <td>2018-03-01</td>\n",
       "      <td>thank_you_call</td>\n",
       "      <td>388.322847</td>\n",
       "      <td>25.0</td>\n",
       "      <td>18481.635</td>\n",
       "      <td>0.021011</td>\n",
       "      <td>True</td>\n",
       "      <td>739.265400</td>\n",
       "    </tr>\n",
       "    <tr>\n",
       "      <th>2</th>\n",
       "      <td>10362</td>\n",
       "      <td>2018-01-01</td>\n",
       "      <td>thank_you_call</td>\n",
       "      <td>588.327102</td>\n",
       "      <td>15.0</td>\n",
       "      <td>7010.647</td>\n",
       "      <td>0.083919</td>\n",
       "      <td>True</td>\n",
       "      <td>467.376467</td>\n",
       "    </tr>\n",
       "    <tr>\n",
       "      <th>3</th>\n",
       "      <td>10382</td>\n",
       "      <td>2018-11-01</td>\n",
       "      <td>thank_you_call</td>\n",
       "      <td>6.402000</td>\n",
       "      <td>2.0</td>\n",
       "      <td>1144.032</td>\n",
       "      <td>0.005596</td>\n",
       "      <td>True</td>\n",
       "      <td>572.016000</td>\n",
       "    </tr>\n",
       "    <tr>\n",
       "      <th>4</th>\n",
       "      <td>10463</td>\n",
       "      <td>2019-01-01</td>\n",
       "      <td>no_call</td>\n",
       "      <td>51.815610</td>\n",
       "      <td>3.0</td>\n",
       "      <td>1271.090</td>\n",
       "      <td>0.040765</td>\n",
       "      <td>True</td>\n",
       "      <td>423.696667</td>\n",
       "    </tr>\n",
       "  </tbody>\n",
       "</table>\n",
       "</div>"
      ],
      "text/plain": [
       "   USER_ID CHECK_OUT_MONTH THANK_YOU_STATUS         LTR  BOOKINGS        GMV  \\\n",
       "0    10157      2018-09-01   thank_you_call  106.640369       6.0   4926.957   \n",
       "1    10263      2018-03-01   thank_you_call  388.322847      25.0  18481.635   \n",
       "2    10362      2018-01-01   thank_you_call  588.327102      15.0   7010.647   \n",
       "3    10382      2018-11-01   thank_you_call    6.402000       2.0   1144.032   \n",
       "4    10463      2019-01-01          no_call   51.815610       3.0   1271.090   \n",
       "\n",
       "     MARGIN  CUSTOMER_RETURNED  GMV_PER_BOOKING  \n",
       "0  0.021644               True       821.159500  \n",
       "1  0.021011               True       739.265400  \n",
       "2  0.083919               True       467.376467  \n",
       "3  0.005596               True       572.016000  \n",
       "4  0.040765               True       423.696667  "
      ]
     },
     "execution_count": 14,
     "metadata": {},
     "output_type": "execute_result"
    }
   ],
   "source": [
    "flagged_data.head()"
   ]
  },
  {
   "cell_type": "code",
   "execution_count": 15,
   "id": "23e274c4",
   "metadata": {},
   "outputs": [
    {
     "data": {
      "text/html": [
       "<div>\n",
       "<style scoped>\n",
       "    .dataframe tbody tr th:only-of-type {\n",
       "        vertical-align: middle;\n",
       "    }\n",
       "\n",
       "    .dataframe tbody tr th {\n",
       "        vertical-align: top;\n",
       "    }\n",
       "\n",
       "    .dataframe thead th {\n",
       "        text-align: right;\n",
       "    }\n",
       "</style>\n",
       "<table border=\"1\" class=\"dataframe\">\n",
       "  <thead>\n",
       "    <tr style=\"text-align: right;\">\n",
       "      <th></th>\n",
       "      <th>USER_ID</th>\n",
       "      <th>LTR</th>\n",
       "      <th>BOOKINGS</th>\n",
       "      <th>GMV</th>\n",
       "      <th>MARGIN</th>\n",
       "      <th>GMV_PER_BOOKING</th>\n",
       "    </tr>\n",
       "  </thead>\n",
       "  <tbody>\n",
       "    <tr>\n",
       "      <th>count</th>\n",
       "      <td>2.320200e+04</td>\n",
       "      <td>23202.000000</td>\n",
       "      <td>23202.000000</td>\n",
       "      <td>23202.000000</td>\n",
       "      <td>23202.000000</td>\n",
       "      <td>23202.000000</td>\n",
       "    </tr>\n",
       "    <tr>\n",
       "      <th>mean</th>\n",
       "      <td>1.645553e+06</td>\n",
       "      <td>73.784503</td>\n",
       "      <td>1.920869</td>\n",
       "      <td>1120.685785</td>\n",
       "      <td>0.072580</td>\n",
       "      <td>644.239593</td>\n",
       "    </tr>\n",
       "    <tr>\n",
       "      <th>std</th>\n",
       "      <td>6.279506e+05</td>\n",
       "      <td>106.030714</td>\n",
       "      <td>15.036952</td>\n",
       "      <td>1831.220249</td>\n",
       "      <td>0.027831</td>\n",
       "      <td>195.591959</td>\n",
       "    </tr>\n",
       "    <tr>\n",
       "      <th>min</th>\n",
       "      <td>1.015700e+04</td>\n",
       "      <td>0.006633</td>\n",
       "      <td>1.000000</td>\n",
       "      <td>502.554000</td>\n",
       "      <td>0.000009</td>\n",
       "      <td>0.386953</td>\n",
       "    </tr>\n",
       "    <tr>\n",
       "      <th>25%</th>\n",
       "      <td>1.238449e+06</td>\n",
       "      <td>42.504000</td>\n",
       "      <td>1.000000</td>\n",
       "      <td>592.224750</td>\n",
       "      <td>0.060977</td>\n",
       "      <td>542.678250</td>\n",
       "    </tr>\n",
       "    <tr>\n",
       "      <th>50%</th>\n",
       "      <td>1.653670e+06</td>\n",
       "      <td>53.322500</td>\n",
       "      <td>1.000000</td>\n",
       "      <td>700.493500</td>\n",
       "      <td>0.076968</td>\n",
       "      <td>620.347000</td>\n",
       "    </tr>\n",
       "    <tr>\n",
       "      <th>75%</th>\n",
       "      <td>2.141938e+06</td>\n",
       "      <td>70.994000</td>\n",
       "      <td>2.000000</td>\n",
       "      <td>871.887500</td>\n",
       "      <td>0.085636</td>\n",
       "      <td>725.776750</td>\n",
       "    </tr>\n",
       "    <tr>\n",
       "      <th>max</th>\n",
       "      <td>2.839099e+06</td>\n",
       "      <td>5122.086550</td>\n",
       "      <td>2012.000000</td>\n",
       "      <td>73247.220000</td>\n",
       "      <td>0.437128</td>\n",
       "      <td>4532.398333</td>\n",
       "    </tr>\n",
       "  </tbody>\n",
       "</table>\n",
       "</div>"
      ],
      "text/plain": [
       "            USER_ID           LTR      BOOKINGS           GMV        MARGIN  \\\n",
       "count  2.320200e+04  23202.000000  23202.000000  23202.000000  23202.000000   \n",
       "mean   1.645553e+06     73.784503      1.920869   1120.685785      0.072580   \n",
       "std    6.279506e+05    106.030714     15.036952   1831.220249      0.027831   \n",
       "min    1.015700e+04      0.006633      1.000000    502.554000      0.000009   \n",
       "25%    1.238449e+06     42.504000      1.000000    592.224750      0.060977   \n",
       "50%    1.653670e+06     53.322500      1.000000    700.493500      0.076968   \n",
       "75%    2.141938e+06     70.994000      2.000000    871.887500      0.085636   \n",
       "max    2.839099e+06   5122.086550   2012.000000  73247.220000      0.437128   \n",
       "\n",
       "       GMV_PER_BOOKING  \n",
       "count     23202.000000  \n",
       "mean        644.239593  \n",
       "std         195.591959  \n",
       "min           0.386953  \n",
       "25%         542.678250  \n",
       "50%         620.347000  \n",
       "75%         725.776750  \n",
       "max        4532.398333  "
      ]
     },
     "execution_count": 15,
     "metadata": {},
     "output_type": "execute_result"
    }
   ],
   "source": [
    "flagged_data.describe()"
   ]
  },
  {
   "cell_type": "markdown",
   "id": "7c18be33",
   "metadata": {},
   "source": [
    "# Data Exploration\n",
    "\n",
    "#### More rigorous hypothesis testing to come but some high level questions:\n",
    "    \n",
    "- How many customers transact more than once? This seems like the most likely behavior you might be trying to stimulate\n",
    "- What does GMV, LTR, Margin look like at a high level, Bookings; by test\n",
    "- Does time of year have an impact on return likelihood?\n",
    "- What does seasonality look like?\n",
    "- Is there subsets of data that are likely to respond to "
   ]
  },
  {
   "cell_type": "code",
   "execution_count": 16,
   "id": "41efc568",
   "metadata": {},
   "outputs": [
    {
     "data": {
      "text/plain": [
       "mean         0.276226\n",
       "count    23202.000000\n",
       "Name: CUSTOMER_RETURNED, dtype: float64"
      ]
     },
     "execution_count": 16,
     "metadata": {},
     "output_type": "execute_result"
    }
   ],
   "source": [
    "flagged_data.CUSTOMER_RETURNED.agg(['mean','count'])"
   ]
  },
  {
   "cell_type": "code",
   "execution_count": 17,
   "id": "a3974d88",
   "metadata": {},
   "outputs": [
    {
     "data": {
      "text/html": [
       "<div>\n",
       "<style scoped>\n",
       "    .dataframe tbody tr th:only-of-type {\n",
       "        vertical-align: middle;\n",
       "    }\n",
       "\n",
       "    .dataframe tbody tr th {\n",
       "        vertical-align: top;\n",
       "    }\n",
       "\n",
       "    .dataframe thead th {\n",
       "        text-align: right;\n",
       "    }\n",
       "</style>\n",
       "<table border=\"1\" class=\"dataframe\">\n",
       "  <thead>\n",
       "    <tr style=\"text-align: right;\">\n",
       "      <th></th>\n",
       "      <th>mean</th>\n",
       "      <th>count</th>\n",
       "    </tr>\n",
       "    <tr>\n",
       "      <th>THANK_YOU_STATUS</th>\n",
       "      <th></th>\n",
       "      <th></th>\n",
       "    </tr>\n",
       "  </thead>\n",
       "  <tbody>\n",
       "    <tr>\n",
       "      <th>no_call</th>\n",
       "      <td>0.270242</td>\n",
       "      <td>15179</td>\n",
       "    </tr>\n",
       "    <tr>\n",
       "      <th>thank_you_call</th>\n",
       "      <td>0.287548</td>\n",
       "      <td>8023</td>\n",
       "    </tr>\n",
       "  </tbody>\n",
       "</table>\n",
       "</div>"
      ],
      "text/plain": [
       "                      mean  count\n",
       "THANK_YOU_STATUS                 \n",
       "no_call           0.270242  15179\n",
       "thank_you_call    0.287548   8023"
      ]
     },
     "execution_count": 17,
     "metadata": {},
     "output_type": "execute_result"
    }
   ],
   "source": [
    "flagged_data.groupby('THANK_YOU_STATUS').CUSTOMER_RETURNED.agg(['mean','count'])"
   ]
  },
  {
   "cell_type": "markdown",
   "id": "7590bcbd",
   "metadata": {},
   "source": [
    "- a decent amount of customers transact overall at SC.\n",
    "- Results suggest that on average, the campaign is reasonably successful at a second booking\n",
    "\n",
    "## Business Metrics"
   ]
  },
  {
   "cell_type": "code",
   "execution_count": 18,
   "id": "25376f00",
   "metadata": {},
   "outputs": [
    {
     "data": {
      "text/html": [
       "<div>\n",
       "<style scoped>\n",
       "    .dataframe tbody tr th:only-of-type {\n",
       "        vertical-align: middle;\n",
       "    }\n",
       "\n",
       "    .dataframe tbody tr th {\n",
       "        vertical-align: top;\n",
       "    }\n",
       "\n",
       "    .dataframe thead th {\n",
       "        text-align: right;\n",
       "    }\n",
       "</style>\n",
       "<table border=\"1\" class=\"dataframe\">\n",
       "  <thead>\n",
       "    <tr style=\"text-align: right;\">\n",
       "      <th></th>\n",
       "      <th>BOOKINGS</th>\n",
       "      <th>GMV</th>\n",
       "      <th>LTR</th>\n",
       "      <th>MARGIN</th>\n",
       "    </tr>\n",
       "    <tr>\n",
       "      <th>THANK_YOU_STATUS</th>\n",
       "      <th></th>\n",
       "      <th></th>\n",
       "      <th></th>\n",
       "      <th></th>\n",
       "    </tr>\n",
       "  </thead>\n",
       "  <tbody>\n",
       "    <tr>\n",
       "      <th>no_call</th>\n",
       "      <td>1.957573</td>\n",
       "      <td>1088.997353</td>\n",
       "      <td>72.852304</td>\n",
       "      <td>0.073287</td>\n",
       "    </tr>\n",
       "    <tr>\n",
       "      <th>thank_you_call</th>\n",
       "      <td>1.851427</td>\n",
       "      <td>1180.638259</td>\n",
       "      <td>75.548163</td>\n",
       "      <td>0.071243</td>\n",
       "    </tr>\n",
       "  </tbody>\n",
       "</table>\n",
       "</div>"
      ],
      "text/plain": [
       "                  BOOKINGS          GMV        LTR    MARGIN\n",
       "THANK_YOU_STATUS                                            \n",
       "no_call           1.957573  1088.997353  72.852304  0.073287\n",
       "thank_you_call    1.851427  1180.638259  75.548163  0.071243"
      ]
     },
     "execution_count": 18,
     "metadata": {},
     "output_type": "execute_result"
    }
   ],
   "source": [
    "flagged_data.groupby(['THANK_YOU_STATUS'])[['BOOKINGS','GMV','LTR','MARGIN']].mean()"
   ]
  },
  {
   "cell_type": "markdown",
   "id": "c46ef0c6",
   "metadata": {},
   "source": [
    "- Higher bookings for the no_call group likely driven by outliers and the 1000 time visiting customer i saw above. lets trim those now.\n",
    "\n",
    "# Outlier & Omissions"
   ]
  },
  {
   "cell_type": "code",
   "execution_count": 19,
   "id": "ba0bf35c",
   "metadata": {},
   "outputs": [
    {
     "data": {
      "text/plain": [
       "GMV    7987.81567\n",
       "Name: 0.99, dtype: float64"
      ]
     },
     "execution_count": 19,
     "metadata": {},
     "output_type": "execute_result"
    }
   ],
   "source": [
    "# Calculate 99% percentile. Will want to omit outliers from further visualization. Use 8000 as cutoff.\n",
    "flagged_data[['GMV']].quantile(0.99)"
   ]
  },
  {
   "cell_type": "code",
   "execution_count": 20,
   "id": "63910ab3",
   "metadata": {
    "scrolled": true
   },
   "outputs": [
    {
     "data": {
      "text/plain": [
       "BOOKINGS    12.0\n",
       "Name: 0.99, dtype: float64"
      ]
     },
     "execution_count": 20,
     "metadata": {},
     "output_type": "execute_result"
    }
   ],
   "source": [
    "# Calculate 99% percentile. Will want to omit outliers from further visualization. Use 12 as cutoff.\n",
    "flagged_data[['BOOKINGS']].quantile(0.99)"
   ]
  },
  {
   "cell_type": "code",
   "execution_count": 21,
   "id": "78dd655c",
   "metadata": {},
   "outputs": [],
   "source": [
    "filtered_data = flagged_data[(flagged_data.BOOKINGS < 12) & (flagged_data.GMV < 8000)]"
   ]
  },
  {
   "cell_type": "markdown",
   "id": "959c8f12",
   "metadata": {},
   "source": [
    "## Baselining new dataset"
   ]
  },
  {
   "cell_type": "code",
   "execution_count": 22,
   "id": "48b50913",
   "metadata": {},
   "outputs": [
    {
     "data": {
      "text/html": [
       "<div>\n",
       "<style scoped>\n",
       "    .dataframe tbody tr th:only-of-type {\n",
       "        vertical-align: middle;\n",
       "    }\n",
       "\n",
       "    .dataframe tbody tr th {\n",
       "        vertical-align: top;\n",
       "    }\n",
       "\n",
       "    .dataframe thead th {\n",
       "        text-align: right;\n",
       "    }\n",
       "</style>\n",
       "<table border=\"1\" class=\"dataframe\">\n",
       "  <thead>\n",
       "    <tr style=\"text-align: right;\">\n",
       "      <th></th>\n",
       "      <th>USER_ID</th>\n",
       "      <th>LTR</th>\n",
       "      <th>BOOKINGS</th>\n",
       "      <th>GMV</th>\n",
       "      <th>MARGIN</th>\n",
       "      <th>GMV_PER_BOOKING</th>\n",
       "    </tr>\n",
       "  </thead>\n",
       "  <tbody>\n",
       "    <tr>\n",
       "      <th>count</th>\n",
       "      <td>2.285400e+04</td>\n",
       "      <td>22854.000000</td>\n",
       "      <td>22854.000000</td>\n",
       "      <td>22854.000000</td>\n",
       "      <td>22854.000000</td>\n",
       "      <td>22854.000000</td>\n",
       "    </tr>\n",
       "    <tr>\n",
       "      <th>mean</th>\n",
       "      <td>1.655187e+06</td>\n",
       "      <td>65.549123</td>\n",
       "      <td>1.559246</td>\n",
       "      <td>964.582378</td>\n",
       "      <td>0.072810</td>\n",
       "      <td>639.863083</td>\n",
       "    </tr>\n",
       "    <tr>\n",
       "      <th>std</th>\n",
       "      <td>6.229149e+05</td>\n",
       "      <td>53.678673</td>\n",
       "      <td>1.299961</td>\n",
       "      <td>829.723676</td>\n",
       "      <td>0.027835</td>\n",
       "      <td>169.641782</td>\n",
       "    </tr>\n",
       "    <tr>\n",
       "      <th>min</th>\n",
       "      <td>1.015700e+04</td>\n",
       "      <td>0.006633</td>\n",
       "      <td>1.000000</td>\n",
       "      <td>502.554000</td>\n",
       "      <td>0.000009</td>\n",
       "      <td>147.097600</td>\n",
       "    </tr>\n",
       "    <tr>\n",
       "      <th>25%</th>\n",
       "      <td>1.255499e+06</td>\n",
       "      <td>42.295000</td>\n",
       "      <td>1.000000</td>\n",
       "      <td>590.818000</td>\n",
       "      <td>0.061803</td>\n",
       "      <td>543.320000</td>\n",
       "    </tr>\n",
       "    <tr>\n",
       "      <th>50%</th>\n",
       "      <td>1.659737e+06</td>\n",
       "      <td>52.998000</td>\n",
       "      <td>1.000000</td>\n",
       "      <td>696.600500</td>\n",
       "      <td>0.076969</td>\n",
       "      <td>620.330000</td>\n",
       "    </tr>\n",
       "    <tr>\n",
       "      <th>75%</th>\n",
       "      <td>2.149733e+06</td>\n",
       "      <td>69.836250</td>\n",
       "      <td>2.000000</td>\n",
       "      <td>845.966750</td>\n",
       "      <td>0.085695</td>\n",
       "      <td>723.600750</td>\n",
       "    </tr>\n",
       "    <tr>\n",
       "      <th>max</th>\n",
       "      <td>2.839099e+06</td>\n",
       "      <td>751.927000</td>\n",
       "      <td>11.000000</td>\n",
       "      <td>7995.338000</td>\n",
       "      <td>0.437128</td>\n",
       "      <td>3346.773000</td>\n",
       "    </tr>\n",
       "  </tbody>\n",
       "</table>\n",
       "</div>"
      ],
      "text/plain": [
       "            USER_ID           LTR      BOOKINGS           GMV        MARGIN  \\\n",
       "count  2.285400e+04  22854.000000  22854.000000  22854.000000  22854.000000   \n",
       "mean   1.655187e+06     65.549123      1.559246    964.582378      0.072810   \n",
       "std    6.229149e+05     53.678673      1.299961    829.723676      0.027835   \n",
       "min    1.015700e+04      0.006633      1.000000    502.554000      0.000009   \n",
       "25%    1.255499e+06     42.295000      1.000000    590.818000      0.061803   \n",
       "50%    1.659737e+06     52.998000      1.000000    696.600500      0.076969   \n",
       "75%    2.149733e+06     69.836250      2.000000    845.966750      0.085695   \n",
       "max    2.839099e+06    751.927000     11.000000   7995.338000      0.437128   \n",
       "\n",
       "       GMV_PER_BOOKING  \n",
       "count     22854.000000  \n",
       "mean        639.863083  \n",
       "std         169.641782  \n",
       "min         147.097600  \n",
       "25%         543.320000  \n",
       "50%         620.330000  \n",
       "75%         723.600750  \n",
       "max        3346.773000  "
      ]
     },
     "execution_count": 22,
     "metadata": {},
     "output_type": "execute_result"
    }
   ],
   "source": [
    "filtered_data.describe()"
   ]
  },
  {
   "cell_type": "code",
   "execution_count": 23,
   "id": "2ad0f314",
   "metadata": {},
   "outputs": [
    {
     "data": {
      "text/html": [
       "<div>\n",
       "<style scoped>\n",
       "    .dataframe tbody tr th:only-of-type {\n",
       "        vertical-align: middle;\n",
       "    }\n",
       "\n",
       "    .dataframe tbody tr th {\n",
       "        vertical-align: top;\n",
       "    }\n",
       "\n",
       "    .dataframe thead th {\n",
       "        text-align: right;\n",
       "    }\n",
       "</style>\n",
       "<table border=\"1\" class=\"dataframe\">\n",
       "  <thead>\n",
       "    <tr style=\"text-align: right;\">\n",
       "      <th></th>\n",
       "      <th>mean</th>\n",
       "      <th>count</th>\n",
       "    </tr>\n",
       "    <tr>\n",
       "      <th>THANK_YOU_STATUS</th>\n",
       "      <th></th>\n",
       "      <th></th>\n",
       "    </tr>\n",
       "  </thead>\n",
       "  <tbody>\n",
       "    <tr>\n",
       "      <th>no_call</th>\n",
       "      <td>0.259559</td>\n",
       "      <td>14960</td>\n",
       "    </tr>\n",
       "    <tr>\n",
       "      <th>thank_you_call</th>\n",
       "      <td>0.275906</td>\n",
       "      <td>7894</td>\n",
       "    </tr>\n",
       "  </tbody>\n",
       "</table>\n",
       "</div>"
      ],
      "text/plain": [
       "                      mean  count\n",
       "THANK_YOU_STATUS                 \n",
       "no_call           0.259559  14960\n",
       "thank_you_call    0.275906   7894"
      ]
     },
     "execution_count": 23,
     "metadata": {},
     "output_type": "execute_result"
    }
   ],
   "source": [
    "filtered_data.groupby('THANK_YOU_STATUS').CUSTOMER_RETURNED.agg(['mean','count'])"
   ]
  },
  {
   "cell_type": "markdown",
   "id": "720b213c",
   "metadata": {},
   "source": [
    "- No material change"
   ]
  },
  {
   "cell_type": "code",
   "execution_count": 25,
   "id": "f99f8c1c",
   "metadata": {},
   "outputs": [
    {
     "data": {
      "text/html": [
       "<div>\n",
       "<style scoped>\n",
       "    .dataframe tbody tr th:only-of-type {\n",
       "        vertical-align: middle;\n",
       "    }\n",
       "\n",
       "    .dataframe tbody tr th {\n",
       "        vertical-align: top;\n",
       "    }\n",
       "\n",
       "    .dataframe thead th {\n",
       "        text-align: right;\n",
       "    }\n",
       "</style>\n",
       "<table border=\"1\" class=\"dataframe\">\n",
       "  <thead>\n",
       "    <tr style=\"text-align: right;\">\n",
       "      <th></th>\n",
       "      <th>BOOKINGS</th>\n",
       "      <th>GMV</th>\n",
       "      <th>LTR</th>\n",
       "      <th>MARGIN</th>\n",
       "      <th>GMV_PER_BOOKING</th>\n",
       "    </tr>\n",
       "    <tr>\n",
       "      <th>THANK_YOU_STATUS</th>\n",
       "      <th></th>\n",
       "      <th></th>\n",
       "      <th></th>\n",
       "      <th></th>\n",
       "      <th></th>\n",
       "    </tr>\n",
       "  </thead>\n",
       "  <tbody>\n",
       "    <tr>\n",
       "      <th>no_call</th>\n",
       "      <td>1.533422</td>\n",
       "      <td>944.920356</td>\n",
       "      <td>65.100172</td>\n",
       "      <td>0.073493</td>\n",
       "      <td>636.788023</td>\n",
       "    </tr>\n",
       "    <tr>\n",
       "      <th>thank_you_call</th>\n",
       "      <td>1.608183</td>\n",
       "      <td>1001.844078</td>\n",
       "      <td>66.399934</td>\n",
       "      <td>0.071515</td>\n",
       "      <td>645.690662</td>\n",
       "    </tr>\n",
       "  </tbody>\n",
       "</table>\n",
       "</div>"
      ],
      "text/plain": [
       "                  BOOKINGS          GMV        LTR    MARGIN  GMV_PER_BOOKING\n",
       "THANK_YOU_STATUS                                                             \n",
       "no_call           1.533422   944.920356  65.100172  0.073493       636.788023\n",
       "thank_you_call    1.608183  1001.844078  66.399934  0.071515       645.690662"
      ]
     },
     "execution_count": 25,
     "metadata": {},
     "output_type": "execute_result"
    }
   ],
   "source": [
    "filtered_data.groupby(['THANK_YOU_STATUS'])[['BOOKINGS','GMV','LTR','MARGIN','GMV_PER_BOOKING']].mean()"
   ]
  },
  {
   "cell_type": "markdown",
   "id": "22e94a67",
   "metadata": {},
   "source": [
    "- the omission of outlier users now addresses the abnormality in users. Let's continue to this for further analysis\n",
    "- thank you call did stimulate positive financials across fewer bookings. Looks like a segment of high value clients could be stimulated by the thank you call. There's an opportuntiy for identification of high value customers here (high end travel, etc)"
   ]
  },
  {
   "cell_type": "markdown",
   "id": "4c9a55e2",
   "metadata": {},
   "source": [
    "# Distributions\n",
    "\n",
    "- let's understand how some of our transactional distributions look"
   ]
  },
  {
   "cell_type": "code",
   "execution_count": 41,
   "id": "79b48678",
   "metadata": {},
   "outputs": [
    {
     "data": {
      "text/plain": [
       "<seaborn.axisgrid.FacetGrid at 0x126f95df0>"
      ]
     },
     "execution_count": 41,
     "metadata": {},
     "output_type": "execute_result"
    },
    {
     "data": {
      "image/png": "[encoded data removed]",
      "text/plain": [
       "<Figure size 494.175x360 with 1 Axes>"
      ]
     },
     "metadata": {},
     "output_type": "display_data"
    }
   ],
   "source": [
    "sns.displot(data = filtered_data, \n",
    "            x= 'GMV', \n",
    "            hue = 'THANK_YOU_STATUS',\n",
    "            kind=\"kde\",\n",
    "            common_norm = False,\n",
    "            log_scale = True)"
   ]
  },
  {
   "cell_type": "markdown",
   "id": "caedf0a9",
   "metadata": {},
   "source": [
    "- Right tail of thank you call suggests that we are successful in shifting GMV for users higher"
   ]
  },
  {
   "cell_type": "code",
   "execution_count": 42,
   "id": "144d602e",
   "metadata": {},
   "outputs": [
    {
     "data": {
      "text/plain": [
       "<seaborn.axisgrid.FacetGrid at 0x1270e1550>"
      ]
     },
     "execution_count": 42,
     "metadata": {},
     "output_type": "execute_result"
    },
    {
     "data": {
      "image/png": "[encoded data removed]",
      "text/plain": [
       "<Figure size 494.175x360 with 1 Axes>"
      ]
     },
     "metadata": {},
     "output_type": "display_data"
    }
   ],
   "source": [
    "sns.displot(data = filtered_data, \n",
    "            x= 'BOOKINGS', \n",
    "            hue = 'THANK_YOU_STATUS',\n",
    "            kind=\"kde\",\n",
    "            common_norm = False,\n",
    "            log_scale = True)"
   ]
  },
  {
   "cell_type": "markdown",
   "id": "262f41c0",
   "metadata": {},
   "source": [
    "- Same situation. Incremental bookings are tremendously more successful. likely comes down to individual economics"
   ]
  },
  {
   "cell_type": "code",
   "execution_count": 47,
   "id": "2b40628c",
   "metadata": {},
   "outputs": [
    {
     "data": {
      "image/png": "[encoded data removed]",
      "text/plain": [
       "<Figure size 432x288 with 1 Axes>"
      ]
     },
     "metadata": {},
     "output_type": "display_data"
    }
   ],
   "source": [
    "ax = sns.barplot(x=\"THANK_YOU_STATUS\", y=\"GMV\", data=filtered_data)"
   ]
  },
  {
   "cell_type": "code",
   "execution_count": 48,
   "id": "bb7ee6a0",
   "metadata": {},
   "outputs": [
    {
     "data": {
      "image/png": "[encoded data removed]",
      "text/plain": [
       "<Figure size 432x288 with 1 Axes>"
      ]
     },
     "metadata": {},
     "output_type": "display_data"
    }
   ],
   "source": [
    "ax = sns.barplot(x=\"THANK_YOU_STATUS\", y=\"LTR\", data=filtered_data)"
   ]
  },
  {
   "cell_type": "code",
   "execution_count": 49,
   "id": "d968885b",
   "metadata": {
    "scrolled": true
   },
   "outputs": [
    {
     "data": {
      "image/png": "[encoded data removed]",
      "text/plain": [
       "<Figure size 432x288 with 1 Axes>"
      ]
     },
     "metadata": {},
     "output_type": "display_data"
    }
   ],
   "source": [
    "ax = sns.barplot(x=\"THANK_YOU_STATUS\", y=\"GMV_PER_BOOKING\", data=filtered_data)"
   ]
  },
  {
   "cell_type": "code",
   "execution_count": 50,
   "id": "5f792b27",
   "metadata": {},
   "outputs": [
    {
     "data": {
      "image/png": "[encoded data removed]",
      "text/plain": [
       "<Figure size 432x288 with 1 Axes>"
      ]
     },
     "metadata": {},
     "output_type": "display_data"
    }
   ],
   "source": [
    "ax = sns.barplot(x=\"THANK_YOU_STATUS\", y=\"BOOKINGS\", data=filtered_data)"
   ]
  },
  {
   "cell_type": "code",
   "execution_count": 65,
   "id": "ac0cc4e3",
   "metadata": {},
   "outputs": [
    {
     "data": {
      "text/plain": [
       "<AxesSubplot:xlabel='THANK_YOU_STATUS', ylabel='USER_ID'>"
      ]
     },
     "execution_count": 65,
     "metadata": {},
     "output_type": "execute_result"
    },
    {
     "data": {
      "image/png": "[encoded data removed]",
      "text/plain": [
       "<Figure size 432x288 with 1 Axes>"
      ]
     },
     "metadata": {},
     "output_type": "display_data"
    }
   ],
   "source": [
    "responder_chart_df = (filtered_data\n",
    "                   .groupby(['THANK_YOU_STATUS','CUSTOMER_RETURNED'])\n",
    "                   ['USER_ID']\n",
    "                   .count()\n",
    "                   .reset_index()\n",
    "                  )\n",
    "\n",
    "\n",
    "sns.barplot(x='THANK_YOU_STATUS',\n",
    "            y='USER_ID',\n",
    "            hue='CUSTOMER_RETURNED',\n",
    "            data=responder_chart_df)"
   ]
  },
  {
   "cell_type": "code",
   "execution_count": 72,
   "id": "f0139cd2",
   "metadata": {},
   "outputs": [
    {
     "data": {
      "text/html": [
       "<div>\n",
       "<style scoped>\n",
       "    .dataframe tbody tr th:only-of-type {\n",
       "        vertical-align: middle;\n",
       "    }\n",
       "\n",
       "    .dataframe tbody tr th {\n",
       "        vertical-align: top;\n",
       "    }\n",
       "\n",
       "    .dataframe thead th {\n",
       "        text-align: right;\n",
       "    }\n",
       "</style>\n",
       "<table border=\"1\" class=\"dataframe\">\n",
       "  <thead>\n",
       "    <tr style=\"text-align: right;\">\n",
       "      <th></th>\n",
       "      <th>GMV_quartile</th>\n",
       "      <th>THANK_YOU_STATUS</th>\n",
       "      <th>CUSTOMER_RETURNED</th>\n",
       "    </tr>\n",
       "  </thead>\n",
       "  <tbody>\n",
       "    <tr>\n",
       "      <th>0</th>\n",
       "      <td>(502.0, 573.0]</td>\n",
       "      <td>no_call</td>\n",
       "      <td>0.000000</td>\n",
       "    </tr>\n",
       "    <tr>\n",
       "      <th>1</th>\n",
       "      <td>(502.0, 573.0]</td>\n",
       "      <td>thank_you_call</td>\n",
       "      <td>0.000000</td>\n",
       "    </tr>\n",
       "    <tr>\n",
       "      <th>2</th>\n",
       "      <td>(573.0, 649.0]</td>\n",
       "      <td>no_call</td>\n",
       "      <td>0.005697</td>\n",
       "    </tr>\n",
       "    <tr>\n",
       "      <th>3</th>\n",
       "      <td>(573.0, 649.0]</td>\n",
       "      <td>thank_you_call</td>\n",
       "      <td>0.005035</td>\n",
       "    </tr>\n",
       "    <tr>\n",
       "      <th>4</th>\n",
       "      <td>(649.0, 751.0]</td>\n",
       "      <td>no_call</td>\n",
       "      <td>0.044563</td>\n",
       "    </tr>\n",
       "    <tr>\n",
       "      <th>5</th>\n",
       "      <td>(649.0, 751.0]</td>\n",
       "      <td>thank_you_call</td>\n",
       "      <td>0.038437</td>\n",
       "    </tr>\n",
       "    <tr>\n",
       "      <th>6</th>\n",
       "      <td>(751.0, 1034.0]</td>\n",
       "      <td>no_call</td>\n",
       "      <td>0.287770</td>\n",
       "    </tr>\n",
       "    <tr>\n",
       "      <th>7</th>\n",
       "      <td>(751.0, 1034.0]</td>\n",
       "      <td>thank_you_call</td>\n",
       "      <td>0.260896</td>\n",
       "    </tr>\n",
       "    <tr>\n",
       "      <th>8</th>\n",
       "      <td>(1034.0, 7995.0]</td>\n",
       "      <td>no_call</td>\n",
       "      <td>1.000000</td>\n",
       "    </tr>\n",
       "    <tr>\n",
       "      <th>9</th>\n",
       "      <td>(1034.0, 7995.0]</td>\n",
       "      <td>thank_you_call</td>\n",
       "      <td>1.000000</td>\n",
       "    </tr>\n",
       "  </tbody>\n",
       "</table>\n",
       "</div>"
      ],
      "text/plain": [
       "       GMV_quartile THANK_YOU_STATUS  CUSTOMER_RETURNED\n",
       "0    (502.0, 573.0]          no_call           0.000000\n",
       "1    (502.0, 573.0]   thank_you_call           0.000000\n",
       "2    (573.0, 649.0]          no_call           0.005697\n",
       "3    (573.0, 649.0]   thank_you_call           0.005035\n",
       "4    (649.0, 751.0]          no_call           0.044563\n",
       "5    (649.0, 751.0]   thank_you_call           0.038437\n",
       "6   (751.0, 1034.0]          no_call           0.287770\n",
       "7   (751.0, 1034.0]   thank_you_call           0.260896\n",
       "8  (1034.0, 7995.0]          no_call           1.000000\n",
       "9  (1034.0, 7995.0]   thank_you_call           1.000000"
      ]
     },
     "execution_count": 72,
     "metadata": {},
     "output_type": "execute_result"
    }
   ],
   "source": [
    "responder_by_GMV_df = (filtered_data\n",
    "                   .assign(GMV_quartile = lambda x: pd.qcut(x['GMV'], q=5 ,precision = 0))\n",
    "                   .groupby(['GMV_quartile','THANK_YOU_STATUS'])\n",
    "                   ['CUSTOMER_RETURNED']\n",
    "                   .mean()\n",
    "                   .reset_index()\n",
    "                  )\n",
    "responder_by_GMV_df"
   ]
  },
  {
   "cell_type": "code",
   "execution_count": 73,
   "id": "d71e6a17",
   "metadata": {},
   "outputs": [
    {
     "data": {
      "text/plain": [
       "[Text(0, 0, '(502.0, 573.0]'),\n",
       " Text(1, 0, '(573.0, 649.0]'),\n",
       " Text(2, 0, '(649.0, 751.0]'),\n",
       " Text(3, 0, '(751.0, 1034.0]'),\n",
       " Text(4, 0, '(1034.0, 7995.0]')]"
      ]
     },
     "execution_count": 73,
     "metadata": {},
     "output_type": "execute_result"
    },
    {
     "data": {
      "image/png": "[encoded data removed]",
      "text/plain": [
       "<Figure size 432x288 with 1 Axes>"
      ]
     },
     "metadata": {},
     "output_type": "display_data"
    }
   ],
   "source": [
    "chart = sns.barplot(x='GMV_quartile',\n",
    "            y='CUSTOMER_RETURNED',\n",
    "            hue='THANK_YOU_STATUS',\n",
    "            data=responder_by_GMV_df)\n",
    "\n",
    "chart.set_xticklabels(chart.get_xticklabels(), rotation=45, horizontalalignment='right')"
   ]
  },
  {
   "cell_type": "code",
   "execution_count": null,
   "id": "967f635c",
   "metadata": {},
   "outputs": [],
   "source": []
  }
 ],
 "metadata": {
  "kernelspec": {
   "display_name": "Python 3 (ipykernel)",
   "language": "python",
   "name": "python3"
  },
  "language_info": {
   "codemirror_mode": {
    "name": "ipython",
    "version": 3
   },
   "file_extension": ".py",
   "mimetype": "text/x-python",
   "name": "python",
   "nbconvert_exporter": "python",
   "pygments_lexer": "ipython3",
   "version": "3.9.1"
  }
 },
 "nbformat": 4,
 "nbformat_minor": 5
}
