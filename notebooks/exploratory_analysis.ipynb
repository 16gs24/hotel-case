{
 "cells": [
  {
   "cell_type": "code",
   "execution_count": 2,
   "id": "f9896909",
   "metadata": {},
   "outputs": [],
   "source": [
    "import pandas as pd"
   ]
  },
  {
   "cell_type": "code",
   "execution_count": 3,
   "id": "67acb0ba",
   "metadata": {},
   "outputs": [],
   "source": [
    "# downloaded Google Sheet provided by Client and saved locally\n",
    "path = '../data/Thank You Call Data - Sheet1.tsv'\n",
    "raw_data = pd.read_csv(path, sep = '\\t')"
   ]
  }
 ],
 "metadata": {
  "kernelspec": {
   "display_name": "Python 3 (ipykernel)",
   "language": "python",
   "name": "python3"
  },
  "language_info": {
   "codemirror_mode": {
    "name": "ipython",
    "version": 3
   },
   "file_extension": ".py",
   "mimetype": "text/x-python",
   "name": "python",
   "nbconvert_exporter": "python",
   "pygments_lexer": "ipython3",
   "version": "3.9.1"
  }
 },
 "nbformat": 4,
 "nbformat_minor": 5
}
